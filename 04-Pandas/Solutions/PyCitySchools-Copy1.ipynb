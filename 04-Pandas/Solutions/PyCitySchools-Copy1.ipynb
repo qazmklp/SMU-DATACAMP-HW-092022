{
 "cells": [
  {
   "cell_type": "code",
   "execution_count": 1,
   "id": "d51594f2",
   "metadata": {},
   "outputs": [],
   "source": [
    "# Dependencies and Setup\n",
    "import pandas as pd\n",
    "import numpy as np"
   ]
  },
  {
   "cell_type": "code",
   "execution_count": 2,
   "id": "af015da7",
   "metadata": {},
   "outputs": [],
   "source": [
    "#import file and read\n",
    "school_data_to_load = '../Instructions/PyCitySchools/Resources/schools_complete.csv'\n",
    "student_data_to_load = '../Instructions/PyCitySchools/Resources/students_complete.csv'\n",
    "\n",
    "\n",
    "school_data = pd.read_csv(school_data_to_load)\n",
    "student_data = pd.read_csv(student_data_to_load)\n",
    "df1= school_data\n",
    "df2= student_data\n",
    "\n"
   ]
  },
  {
   "cell_type": "code",
   "execution_count": 3,
   "id": "4d582b39",
   "metadata": {},
   "outputs": [
    {
     "data": {
      "text/html": [
       "<div>\n",
       "<style scoped>\n",
       "    .dataframe tbody tr th:only-of-type {\n",
       "        vertical-align: middle;\n",
       "    }\n",
       "\n",
       "    .dataframe tbody tr th {\n",
       "        vertical-align: top;\n",
       "    }\n",
       "\n",
       "    .dataframe thead th {\n",
       "        text-align: right;\n",
       "    }\n",
       "</style>\n",
       "<table border=\"1\" class=\"dataframe\">\n",
       "  <thead>\n",
       "    <tr style=\"text-align: right;\">\n",
       "      <th></th>\n",
       "      <th>Student ID</th>\n",
       "      <th>student_name</th>\n",
       "      <th>gender</th>\n",
       "      <th>grade</th>\n",
       "      <th>school_name</th>\n",
       "      <th>reading_score</th>\n",
       "      <th>math_score</th>\n",
       "      <th>School ID</th>\n",
       "      <th>type</th>\n",
       "      <th>size</th>\n",
       "      <th>budget</th>\n",
       "    </tr>\n",
       "  </thead>\n",
       "  <tbody>\n",
       "    <tr>\n",
       "      <th>0</th>\n",
       "      <td>0</td>\n",
       "      <td>Paul Bradley</td>\n",
       "      <td>M</td>\n",
       "      <td>9th</td>\n",
       "      <td>Huang High School</td>\n",
       "      <td>66</td>\n",
       "      <td>79</td>\n",
       "      <td>0</td>\n",
       "      <td>District</td>\n",
       "      <td>2917</td>\n",
       "      <td>1910635</td>\n",
       "    </tr>\n",
       "    <tr>\n",
       "      <th>1</th>\n",
       "      <td>1</td>\n",
       "      <td>Victor Smith</td>\n",
       "      <td>M</td>\n",
       "      <td>12th</td>\n",
       "      <td>Huang High School</td>\n",
       "      <td>94</td>\n",
       "      <td>61</td>\n",
       "      <td>0</td>\n",
       "      <td>District</td>\n",
       "      <td>2917</td>\n",
       "      <td>1910635</td>\n",
       "    </tr>\n",
       "    <tr>\n",
       "      <th>2</th>\n",
       "      <td>2</td>\n",
       "      <td>Kevin Rodriguez</td>\n",
       "      <td>M</td>\n",
       "      <td>12th</td>\n",
       "      <td>Huang High School</td>\n",
       "      <td>90</td>\n",
       "      <td>60</td>\n",
       "      <td>0</td>\n",
       "      <td>District</td>\n",
       "      <td>2917</td>\n",
       "      <td>1910635</td>\n",
       "    </tr>\n",
       "    <tr>\n",
       "      <th>3</th>\n",
       "      <td>3</td>\n",
       "      <td>Dr. Richard Scott</td>\n",
       "      <td>M</td>\n",
       "      <td>12th</td>\n",
       "      <td>Huang High School</td>\n",
       "      <td>67</td>\n",
       "      <td>58</td>\n",
       "      <td>0</td>\n",
       "      <td>District</td>\n",
       "      <td>2917</td>\n",
       "      <td>1910635</td>\n",
       "    </tr>\n",
       "    <tr>\n",
       "      <th>4</th>\n",
       "      <td>4</td>\n",
       "      <td>Bonnie Ray</td>\n",
       "      <td>F</td>\n",
       "      <td>9th</td>\n",
       "      <td>Huang High School</td>\n",
       "      <td>97</td>\n",
       "      <td>84</td>\n",
       "      <td>0</td>\n",
       "      <td>District</td>\n",
       "      <td>2917</td>\n",
       "      <td>1910635</td>\n",
       "    </tr>\n",
       "  </tbody>\n",
       "</table>\n",
       "</div>"
      ],
      "text/plain": [
       "   Student ID       student_name gender grade        school_name  \\\n",
       "0           0       Paul Bradley      M   9th  Huang High School   \n",
       "1           1       Victor Smith      M  12th  Huang High School   \n",
       "2           2    Kevin Rodriguez      M  12th  Huang High School   \n",
       "3           3  Dr. Richard Scott      M  12th  Huang High School   \n",
       "4           4         Bonnie Ray      F   9th  Huang High School   \n",
       "\n",
       "   reading_score  math_score  School ID      type  size   budget  \n",
       "0             66          79          0  District  2917  1910635  \n",
       "1             94          61          0  District  2917  1910635  \n",
       "2             90          60          0  District  2917  1910635  \n",
       "3             67          58          0  District  2917  1910635  \n",
       "4             97          84          0  District  2917  1910635  "
      ]
     },
     "execution_count": 3,
     "metadata": {},
     "output_type": "execute_result"
    }
   ],
   "source": [
    "#merge files on school name\n",
    "df3=pd.merge(df2,df1, on=\"school_name\", how='left')\n",
    "df3.head()\n"
   ]
  },
  {
   "cell_type": "code",
   "execution_count": 4,
   "id": "437aaabb",
   "metadata": {},
   "outputs": [],
   "source": [
    "### District Summary\n",
    "\n",
    "# Create a high-level snapshot, in a DataFrame, of the district's key metrics, including the following:\n",
    "\n",
    "# * Total schools\n",
    "# * Total students\n",
    "# * Total budget\n",
    "# * Average math score\n",
    "# * Average reading score\n",
    "# * % passing math (the percentage of students who passed math)\n",
    "# * % passing reading (the percentage of students who passed reading)\n",
    "# * % overall passing (the percentage of students who passed math AND reading)"
   ]
  },
  {
   "cell_type": "code",
   "execution_count": 5,
   "id": "d50c66f6",
   "metadata": {},
   "outputs": [
    {
     "data": {
      "text/html": [
       "<div>\n",
       "<style scoped>\n",
       "    .dataframe tbody tr th:only-of-type {\n",
       "        vertical-align: middle;\n",
       "    }\n",
       "\n",
       "    .dataframe tbody tr th {\n",
       "        vertical-align: top;\n",
       "    }\n",
       "\n",
       "    .dataframe thead th {\n",
       "        text-align: right;\n",
       "    }\n",
       "</style>\n",
       "<table border=\"1\" class=\"dataframe\">\n",
       "  <thead>\n",
       "    <tr style=\"text-align: right;\">\n",
       "      <th></th>\n",
       "      <th>Total schools</th>\n",
       "      <th>Total Students</th>\n",
       "      <th>Total Budget</th>\n",
       "      <th>Average Math Score</th>\n",
       "      <th>Average Reading Score</th>\n",
       "      <th>% Passing Math</th>\n",
       "      <th>% Passing Reading</th>\n",
       "      <th>% Overall Passing</th>\n",
       "    </tr>\n",
       "  </thead>\n",
       "  <tbody>\n",
       "    <tr>\n",
       "      <th>0</th>\n",
       "      <td>15</td>\n",
       "      <td>39170</td>\n",
       "      <td>24649428</td>\n",
       "      <td>78.985371</td>\n",
       "      <td>81.87784</td>\n",
       "      <td>74.980853</td>\n",
       "      <td>85.805463</td>\n",
       "      <td>65.172326</td>\n",
       "    </tr>\n",
       "  </tbody>\n",
       "</table>\n",
       "</div>"
      ],
      "text/plain": [
       "   Total schools  Total Students  Total Budget  Average Math Score  \\\n",
       "0             15           39170      24649428           78.985371   \n",
       "\n",
       "   Average Reading Score  % Passing Math  % Passing Reading  % Overall Passing  \n",
       "0               81.87784       74.980853          85.805463          65.172326  "
      ]
     },
     "execution_count": 5,
     "metadata": {},
     "output_type": "execute_result"
    }
   ],
   "source": [
    "#\"Total Budget\": (df3.budget.sum()/df3.student_name.count()).round(2),\n",
    "\n",
    "dfdistrict_Summary=pd.DataFrame([{\"Total schools\":df3.school_name.nunique(), \n",
    "                   \"Total Students\":df3.student_name.count(),\n",
    "                    \"Total Budget\": df1.budget.sum().round(2),\n",
    "                    \"Average Math Score\": df3.math_score.mean(),\n",
    "                   \"Average Reading Score\":df3.reading_score.mean(),\n",
    "                   \"% Passing Math\":len(df3[df3['math_score']>=70])/df3.student_name.count()*100,\n",
    "                   \"% Passing Reading\":len(df3[df3['reading_score']>=70])/df3.student_name.count()*100,\n",
    "                   \"% Overall Passing\":len(df3[(df3['math_score']>=70) & (df3['reading_score']>=70)])\n",
    "                                  /(df3.student_name.count())*100,\n",
    "                                 }])\n",
    "\n",
    "dfdistrict_Summary"
   ]
  },
  {
   "cell_type": "code",
   "execution_count": 6,
   "id": "93022e5f",
   "metadata": {},
   "outputs": [],
   "source": [
    "### School Summary\n",
    "\n",
    "# Create a DataFrame that summarizes key metrics about each school, including the following:\n",
    "\n",
    "# * School name\n",
    "# * School type\n",
    "# * Total students\n",
    "# * Total school budget\n",
    "# * Per student budget\n",
    "# * Average math score\n",
    "# * Average reading score\n",
    "# * % passing math (the percentage of students who passed math)\n",
    "# * % passing reading (the percentage of students who passed reading)\n",
    "# * % overall passing (the percentage of students who passed math AND reading)\n"
   ]
  },
  {
   "cell_type": "code",
   "execution_count": 8,
   "id": "3a16dec9",
   "metadata": {},
   "outputs": [],
   "source": [
    "# groupeddf=df3.groupby(\"school_name\")\n",
    "\n",
    "\n",
    "total_student = df3.groupby(\"school_name\").agg({\"Student ID\":['count']})\n",
    "total_school_budget=df3.groupby(\"school_name\").agg({\"budget\":[sum]})\n",
    "per_student_budget=total_school_budget/total_student\n",
    "avg_math=df3.groupby(\"school_name\").agg({\"math_score\":[sum]})/total_student\n",
    "avg_read=df3.groupby(\"school_name\").agg({\"reading_score\":[sum]})/total_student"
   ]
  },
  {
   "cell_type": "code",
   "execution_count": 18,
   "id": "854ca9d4",
   "metadata": {},
   "outputs": [],
   "source": [
    "pass_reading=df3[df3[\"reading_score\"]>=70].count()[\"student_name\"]"
   ]
  },
  {
   "cell_type": "code",
   "execution_count": null,
   "id": "6aede35a",
   "metadata": {},
   "outputs": [],
   "source": [
    "# save the total number of stuent to (total_student_count)"
   ]
  },
  {
   "cell_type": "code",
   "execution_count": 19,
   "id": "299cdbd4",
   "metadata": {
    "scrolled": true
   },
   "outputs": [
    {
     "ename": "TypeError",
     "evalue": "float() argument must be a string or a number, not 'DataFrame'",
     "output_type": "error",
     "traceback": [
      "\u001b[1;31m---------------------------------------------------------------------------\u001b[0m",
      "\u001b[1;31mTypeError\u001b[0m                                 Traceback (most recent call last)",
      "Input \u001b[1;32mIn [19]\u001b[0m, in \u001b[0;36m<cell line: 1>\u001b[1;34m()\u001b[0m\n\u001b[1;32m----> 1\u001b[0m pass_reading\u001b[38;5;241m/\u001b[39m\u001b[38;5;28;43mfloat\u001b[39;49m\u001b[43m(\u001b[49m\u001b[43mtotal_student\u001b[49m\u001b[43m)\u001b[49m\n",
      "\u001b[1;31mTypeError\u001b[0m: float() argument must be a string or a number, not 'DataFrame'"
     ]
    }
   ],
   "source": [
    "pass_reading/float(total_student_count)"
   ]
  },
  {
   "cell_type": "code",
   "execution_count": 7,
   "id": "9909e0e3",
   "metadata": {},
   "outputs": [
    {
     "ename": "TypeError",
     "evalue": "'int' object is not callable",
     "output_type": "error",
     "traceback": [
      "\u001b[1;31m---------------------------------------------------------------------------\u001b[0m",
      "\u001b[1;31mTypeError\u001b[0m                                 Traceback (most recent call last)",
      "Input \u001b[1;32mIn [7]\u001b[0m, in \u001b[0;36m<cell line: 9>\u001b[1;34m()\u001b[0m\n\u001b[0;32m      7\u001b[0m avg_math\u001b[38;5;241m=\u001b[39mdf3\u001b[38;5;241m.\u001b[39mgroupby(\u001b[38;5;124m\"\u001b[39m\u001b[38;5;124mschool_name\u001b[39m\u001b[38;5;124m\"\u001b[39m)\u001b[38;5;241m.\u001b[39magg({\u001b[38;5;124m\"\u001b[39m\u001b[38;5;124mmath_score\u001b[39m\u001b[38;5;124m\"\u001b[39m:[\u001b[38;5;28msum\u001b[39m]})\u001b[38;5;241m/\u001b[39mtotal_student\n\u001b[0;32m      8\u001b[0m avg_read\u001b[38;5;241m=\u001b[39mdf3\u001b[38;5;241m.\u001b[39mgroupby(\u001b[38;5;124m\"\u001b[39m\u001b[38;5;124mschool_name\u001b[39m\u001b[38;5;124m\"\u001b[39m)\u001b[38;5;241m.\u001b[39magg({\u001b[38;5;124m\"\u001b[39m\u001b[38;5;124mreading_score\u001b[39m\u001b[38;5;124m\"\u001b[39m:[\u001b[38;5;28msum\u001b[39m]})\u001b[38;5;241m/\u001b[39mtotal_student\n\u001b[1;32m----> 9\u001b[0m pass_math\u001b[38;5;241m=\u001b[39m\u001b[43m(\u001b[49m\u001b[43mdf3\u001b[49m\u001b[38;5;241;43m.\u001b[39;49m\u001b[43mmath_score\u001b[49m\u001b[38;5;241;43m>\u001b[39;49m\u001b[38;5;241;43m=\u001b[39;49m\u001b[38;5;241;43m70\u001b[39;49m\u001b[43m)\u001b[49m\u001b[38;5;241;43m.\u001b[39;49m\u001b[43msize\u001b[49m\u001b[43m(\u001b[49m\u001b[43m)\u001b[49m\u001b[38;5;241m.\u001b[39mgroupby([\u001b[38;5;124m\"\u001b[39m\u001b[38;5;124mschool_name\u001b[39m\u001b[38;5;124m\"\u001b[39m])\n\u001b[0;32m     10\u001b[0m perc_passed_math\u001b[38;5;241m=\u001b[39m(pass_math\u001b[38;5;241m/\u001b[39mtotal_student\u001b[38;5;241m*\u001b[39m\u001b[38;5;241m100\u001b[39m)\u001b[38;5;241m.\u001b[39mround(\u001b[38;5;241m2\u001b[39m)\n\u001b[0;32m     11\u001b[0m perc_passed_read\u001b[38;5;241m=\u001b[39m(df3\u001b[38;5;241m.\u001b[39mloc[df3\u001b[38;5;241m.\u001b[39mreading_score\u001b[38;5;241m>\u001b[39m\u001b[38;5;241m=\u001b[39m\u001b[38;5;241m70\u001b[39m]\u001b[38;5;241m.\u001b[39mgroupby([\u001b[38;5;124m'\u001b[39m\u001b[38;5;124mschool_name\u001b[39m\u001b[38;5;124m'\u001b[39m])\n\u001b[0;32m     12\u001b[0m                   \u001b[38;5;241m.\u001b[39msize()\u001b[38;5;241m/\u001b[39mtotal_student\u001b[38;5;241m*\u001b[39m\u001b[38;5;241m100\u001b[39m)\u001b[38;5;241m.\u001b[39mround(\u001b[38;5;241m2\u001b[39m)\n",
      "\u001b[1;31mTypeError\u001b[0m: 'int' object is not callable"
     ]
    }
   ],
   "source": [
    "pass_math=(df3.math_score>=70).size().groupby([\"school_name\"])\n",
    "perc_passed_math=(pass_math/total_student*100).round(2)\n",
    "perc_passed_read=(df3.loc[df3.reading_score>=70].groupby(['school_name'])\n",
    "                  .size()/total_student*100).round(2)\n",
    "perc_passed_both=(df3.loc[(df3.reading_score >= 70) & (df3.math_score >= 70)]\n",
    "                  .groupby([\"school_name\"]).size()/total_student*100).round(2)\n",
    "\n",
    "perc_passed_read"
   ]
  },
  {
   "cell_type": "code",
   "execution_count": null,
   "id": "5cbbb75d",
   "metadata": {},
   "outputs": [],
   "source": [
    "dfSchool_Summary=pd.DataFrame()\n",
    "dfSchool_Summary[\"Total Students\"] = total_student\n",
    "dfSchool_Summary[\"Total School Budget\"] = total_school_budget\n",
    "dfSchool_Summary[\"Per Student Budget\"] = per_student_budget\n",
    "dfSchool_Summary[\"Average Math Score\"] = avg_math\n",
    "dfSchool_Summary[\"Average Reading score\"] = avg_read\n",
    "dfSchool_Summary[\"% passing math\"] = perc_passed_math\n",
    "dfSchool_Summary[\"% passing reading\"] = perc_passed_read\n",
    "dfSchool_Summary[\"% overall passing\"] = perc_passed_both\n",
    "dfSchool_Summary\n"
   ]
  },
  {
   "cell_type": "code",
   "execution_count": null,
   "id": "53e01db2",
   "metadata": {},
   "outputs": [],
   "source": [
    "#dfSchool_Summary version 2  \n",
    "\n",
    "\n",
    "df4=df3.groupby([\"school_name\", \"type\"]).mean().round(2)\n",
    "df4[\"Total School Budget\"]=df3.groupby([\"school_name\", \"type\"])[\"budget\"].sum()/total_student\n",
    "df4[\"Average Per Student Budget\"]=df3.groupby([\"school_name\", \"type\"])[\"budget\"].sum()/total_student/total_student\n",
    "df4[\"perc_passed_math\"]=(df3.loc[df3.math_score>=70].groupby([\"school_name\", \"type\"])\n",
    "                  .size()/total_student*100).round(2)\n",
    "df4[\"perc_passed_read\"]=(df3.loc[df3.reading_score>=70].groupby([\"school_name\", \"type\"])\n",
    "                  .size()/total_student*100).round(2)\n",
    "df4[\"perc_passed_both\"]=(df3.loc[(df3.reading_score >= 70) & (df3.math_score >= 70)]\n",
    "                  .groupby([\"school_name\", \"type\"]).size()/total_student*100).round(2)\n",
    "\n",
    "cols=['size', 'Total School Budget','Average Per Student Budget', 'reading_score',\n",
    "       'math_score', 'perc_passed_math', 'perc_passed_read',\n",
    "       'perc_passed_both']\n",
    "dfSchool_Summary_v2=df4.loc[:,cols]\n",
    "dfSchool_Summary_v2.rename(columns = {'size':'Total Student', 'Total School Budget':'Total School Budget','Average Per Student Budget': 'Average Per Student Budget', 'reading_score': 'Average Reading Score',\n",
    "       'math_score': 'Average Math Score', 'perc_passed_math':'% Passed Math', 'perc_passed_read':'% Passed Math',\n",
    "       'perc_passed_both': '% Passed Both'}, inplace = True)\n",
    "\n",
    "dfSchool_Summary_v2                  "
   ]
  },
  {
   "cell_type": "code",
   "execution_count": null,
   "id": "449569a1",
   "metadata": {},
   "outputs": [],
   "source": []
  },
  {
   "cell_type": "code",
   "execution_count": null,
   "id": "6a757422",
   "metadata": {},
   "outputs": [],
   "source": [
    "### Highest-Performing Schools (by % Overall Passing)\n",
    "\n",
    "# Create a DataFrame that highlights the top 5 performing schools based on % Overall Passing. Include the following metrics:\n",
    "\n",
    "# * School name\n",
    "# * School type\n",
    "# * Total students\n",
    "# * Total school budget\n",
    "# * Per student budget\n",
    "# * Average math score\n",
    "# * Average reading score\n",
    "# * % passing math (the percentage of students who passed math)\n",
    "# * % passing reading (the percentage of students who passed reading)\n",
    "# * % overall passing (the percentage of students who passed math AND reading)\n"
   ]
  },
  {
   "cell_type": "code",
   "execution_count": null,
   "id": "f27ab416",
   "metadata": {},
   "outputs": [],
   "source": [
    "df_top5=dfSchool_Summary_v2.sort_values(by=\"% Passed Both\", ascending=False).head(5)\n",
    "df_top5"
   ]
  },
  {
   "cell_type": "code",
   "execution_count": null,
   "id": "e5cef7d2",
   "metadata": {},
   "outputs": [],
   "source": [
    "# Lowest-Performing Schools (by % Overall Passing)\n",
    "\n",
    "# Create a DataFrame that highlights the bottom 5 performing schools based on % Overall Passing. Include the following metrics:\n",
    "\n",
    "# * School name\n",
    "# * School type\n",
    "# * Total students\n",
    "# * Total school budget\n",
    "# * Per student budget\n",
    "# * Average math score\n",
    "# * Average reading score\n",
    "# * % passing math (the percentage of students who passed math)\n",
    "# * % passing reading (the percentage of students who passed reading)\n",
    "# * % overall passing (the percentage of students who passed math AND reading)\n"
   ]
  },
  {
   "cell_type": "code",
   "execution_count": null,
   "id": "4a075487",
   "metadata": {},
   "outputs": [],
   "source": [
    "df_low5=dfSchool_Summary_v2.sort_values(by=\"% Passed Both\", ascending=True).head(5)\n",
    "df_low5"
   ]
  },
  {
   "cell_type": "code",
   "execution_count": null,
   "id": "56618f2a",
   "metadata": {},
   "outputs": [],
   "source": [
    "cols=['school_name','grade','reading_score', 'math_score']\n",
    "df_grade=(df3.loc[:,cols]).groupby(['school_name','grade']).mean()\n",
    "df_grade.head()\n"
   ]
  },
  {
   "cell_type": "code",
   "execution_count": null,
   "id": "a886770b",
   "metadata": {},
   "outputs": [],
   "source": [
    "df_grade.reset_index(inplace=True)\n",
    "#df_grade.drop('level_0', axis=1, inplace=True)\n",
    "df_grade=df_grade.reset_index(drop=True)\n",
    "df_grade.head()\n",
    "\n"
   ]
  },
  {
   "cell_type": "code",
   "execution_count": null,
   "id": "90f43ecd",
   "metadata": {},
   "outputs": [],
   "source": []
  },
  {
   "cell_type": "code",
   "execution_count": null,
   "id": "3b26cce7",
   "metadata": {},
   "outputs": [],
   "source": [
    "\n",
    "rslt_df = df_grade[df_grade['grade'] == '9th'] \n",
    "cols=['school_name', 'reading_score', 'math_score']\n",
    "grade9=rslt_df.loc[:, cols]\n",
    "grade9.rename(columns = {'school_name':'school_name','reading_score': '9th Reading Score','math_score': '9th Math Score'}, inplace = True)\n",
    "  \n",
    "grade9"
   ]
  },
  {
   "cell_type": "code",
   "execution_count": null,
   "id": "19ae1fd7",
   "metadata": {},
   "outputs": [],
   "source": [
    "rslt_df2 = df_grade[df_grade['grade'] == '10th'] \n",
    "cols=['school_name', 'reading_score', 'math_score']\n",
    "grade10=rslt_df2.loc[:, cols]\n",
    "grade10.rename(columns = {'school_name':'school_name','reading_score': '10th Reading Score','math_score': '10th Math Score'}, inplace = True)\n",
    "  \n",
    "grade10"
   ]
  },
  {
   "cell_type": "code",
   "execution_count": null,
   "id": "35b22abf",
   "metadata": {},
   "outputs": [],
   "source": [
    "rslt_df3 = df_grade[df_grade['grade'] == '11th'] \n",
    "cols=['school_name', 'reading_score', 'math_score']\n",
    "grade11=rslt_df3.loc[:, cols]\n",
    "grade11.rename(columns = {'school_name':'school_name','reading_score': '11th Reading Score','math_score': '11th Math Score'}, inplace = True)\n",
    "  \n",
    "grade11"
   ]
  },
  {
   "cell_type": "code",
   "execution_count": null,
   "id": "297fbfb0",
   "metadata": {},
   "outputs": [],
   "source": [
    "rslt_df4 = df_grade[df_grade['grade'] == '12th'] \n",
    "cols=['school_name', 'reading_score', 'math_score']\n",
    "grade12=rslt_df4.loc[:, cols]\n",
    "grade12.rename(columns = {'school_name':'school_name','reading_score': '12th Reading Score','math_score': '12th Math Score'}, inplace = True)\n",
    "  \n",
    "grade12"
   ]
  },
  {
   "cell_type": "code",
   "execution_count": null,
   "id": "a4b3030b",
   "metadata": {},
   "outputs": [],
   "source": [
    "df_grade_m=pd.merge(grade9, grade10, on=\"school_name\", how='outer')\n",
    "\n",
    "df_grade_m2=pd.merge(grade11, grade12, on=\"school_name\", how='outer')\n",
    "df_grade_m3=pd.merge(df_grade_m, df_grade_m2, on=\"school_name\", how='outer')\n",
    "df_grade_m3"
   ]
  },
  {
   "cell_type": "code",
   "execution_count": null,
   "id": "a9f3ba28",
   "metadata": {},
   "outputs": [],
   "source": [
    "cols=['school_name','9th Reading Score', '10th Reading Score', '11th Reading Score', '12th Reading Score']\n",
    "grade_read=df_grade_m3.loc[:, cols]\n",
    "grade_read.rename(columns = {'school_name':'school_name','9th Reading Score': '9th','10th Reading Score': '10th','11th Reading Score': '11th','12th Reading Score': '12th'}, inplace = True)\n",
    "grade_read"
   ]
  },
  {
   "cell_type": "code",
   "execution_count": null,
   "id": "8e5c3d6e",
   "metadata": {},
   "outputs": [],
   "source": [
    "cols=['school_name','9th Math Score', '10th Math Score', '11th Math Score', '12th Math Score']\n",
    "grade_math=df_grade_m3.loc[:, cols]\n",
    "grade_math.rename(columns = {'school_name':'school_name','9th Math Score': '9th','10th Math Score': '10th','11th Math Score': '11th','12th Math Score': '12th'}, inplace = True)\n",
    "grade_math"
   ]
  },
  {
   "cell_type": "code",
   "execution_count": null,
   "id": "dcaaa96b",
   "metadata": {},
   "outputs": [],
   "source": [
    "Scores by School Spending\n",
    "Create a table that breaks down school performances based on average Spending Ranges (Per Student). Use 4 reasonable bins to group school spending. Include in the table each of the following:\n",
    "Average Math Score\n",
    "Average Reading Score\n",
    "% Passing Math\n",
    "% Passing Reading\n",
    "Overall Passing Rate (Average of the above two)"
   ]
  },
  {
   "cell_type": "code",
   "execution_count": null,
   "id": "c1fe3ac4",
   "metadata": {},
   "outputs": [],
   "source": [
    "spend_df=pd.merge(df1,df2, on=\"school_name\", how='outer')\n",
    "spend_df.head()"
   ]
  },
  {
   "cell_type": "code",
   "execution_count": null,
   "id": "2474518e",
   "metadata": {},
   "outputs": [],
   "source": [
    "spend_df=pd.merge(df1,df2, on=\"school_name\", how='outer')\n",
    "spend_df.rename(columns = {'size':'student_count'}, inplace = True)\n",
    "\n",
    "spend_df[\"ave_student_budget\"] = spend_df.budget/spend_df.student_count\n",
    "spend_df[\"ave_student_budget\"]\n",
    "\n",
    "spend_df[\"pass_math\"]=(spend_df.math_score>=70)\n",
    "spend_df[\"pass_read\"]=(spend_df.reading_score>=70)\n",
    "spend_df[\"pass_both\"]=((spend_df.math_score>=70) & (spend_df.reading_score>=70))\n",
    "\n",
    "\n",
    "bins = [0, 585, 630, 645, 680]\n",
    "\n",
    "# Create the names for the two bins\n",
    "group_names = [\"<$585\", \"$585-630\", \"$630-645\",\"$645-680\"]\n",
    "\n",
    "spend_df[\"Spending Ranges Per Student\"] = pd.cut(spend_df[\"ave_student_budget\"], bins, labels=group_names, include_lowest=True)\n",
    "spend_df.head(100)\n",
    "\n",
    "\n",
    "spend_df2=spend_df.groupby(\"Spending Ranges Per Student\").agg({\"student_name\":\"count\",\"student_count\": \"mean\", \"math_score\": \"mean\", \"reading_score\": \"mean\", \n",
    "                                                               \"pass_math\": \"sum\", \"pass_read\":\"sum\", \n",
    "                                                               \"pass_both\": \"sum\"}).round(2)\n",
    "# spend_df2.head(100)\n",
    "spend_df2[\"perc_math\"] = (spend_df2.pass_math/spend_df2.student_name*100).round(2)\n",
    "spend_df2[\"perc_read\"] = (spend_df2.pass_read/spend_df2.student_name*100).round(2)\n",
    "spend_df2[\"perc_both\"] = (spend_df2.pass_both/spend_df2.student_name*100).round(2)\n",
    "spend_df2.head()\n",
    "\n",
    "cols=['math_score', 'reading_score','perc_math', 'perc_read','perc_both']\n",
    "df_group_type=spend_df2.loc[:,cols]\n",
    "df_group_type.rename(columns = {'math_score': 'Average Math Score', 'reading_score': 'Average Reading Score',\n",
    "                                'perc_math':'% Passing Math', 'perc_read':'% Passing Math',\n",
    "                                'perc_both': '% Passing Both'}, inplace = True)\n",
    "df_group_type"
   ]
  },
  {
   "cell_type": "code",
   "execution_count": null,
   "id": "6cc490c5",
   "metadata": {},
   "outputs": [],
   "source": [
    "spend_df4=pd.merge(df1,df2, on=\"school_name\", how='outer')\n",
    "spend_df4.rename(columns = {'size':'student_count'}, inplace = True)\n",
    "\n",
    "\n",
    "spend_df4[\"pass_math\"]=(spend_df4.math_score>=70)\n",
    "spend_df4[\"pass_read\"]=(spend_df4.reading_score>=70)\n",
    "spend_df4[\"pass_both\"]=((spend_df4.math_score>=70) & (spend_df.reading_score>=70))\n",
    "spend_df4.tail(20)\n",
    "\n",
    "bins2 = [0, 1000, 2000, 5000]\n",
    "\n",
    "group2_names = [\"Small(,1000)\", \"Medium(1000-2000)\", \"Large(2000-5000)\"]\n",
    "\n",
    "spend_df4[\"School Size\"] = pd.cut(spend_df4[\"student_count\"], bins2, labels=group2_names, include_lowest=True)\n",
    "spend_df4.head(100)\n",
    "\n",
    "\n",
    "spend_df5=spend_df4.groupby(\"School Size\").agg({\"student_name\":\"count\",\"student_count\": \"mean\", \"math_score\": \"mean\", \"reading_score\": \"mean\", \n",
    "                                                               \"pass_math\": \"sum\", \"pass_read\":\"sum\", \n",
    "                                                               \"pass_both\": \"sum\"})\n",
    "\n",
    "spend_df5[\"perc_math\"] = (spend_df5.pass_math/spend_df5.student_name)*100\n",
    "spend_df5[\"perc_read\"] = (spend_df5.pass_read/spend_df5.student_name)*100\n",
    "spend_df5[\"perc_both\"] = (spend_df5.pass_both/spend_df5.student_name)*100\n",
    "spend_df5.head()\n",
    "\n",
    "cols=['math_score', 'reading_score','perc_math', 'perc_read','perc_both']\n",
    "df_group_type2=spend_df5.loc[:,cols]\n",
    "df_group_type2.rename(columns = {'math_score': 'Average Math Score', 'reading_score': 'Average Reading Score',\n",
    "                                'perc_math':'% Passing Math', 'perc_read':'% Passing Math',\n",
    "                                'perc_both': '% Passing Both'}, inplace = True)\n",
    "df_group_type2"
   ]
  },
  {
   "cell_type": "code",
   "execution_count": null,
   "id": "85965d46",
   "metadata": {},
   "outputs": [],
   "source": [
    "\n"
   ]
  },
  {
   "cell_type": "code",
   "execution_count": null,
   "id": "7b379fde",
   "metadata": {},
   "outputs": [],
   "source": [
    "df3[\"pass_math\"]=(df3.math_score>=70)\n",
    "df3[\"pass_read\"]=(df3.reading_score>=70)\n",
    "df3[\"pass_both\"]=((df3.math_score>=70) & (df3.reading_score>=70))\n",
    "df3.head()\n",
    "\n",
    "df_group_type = df3.groupby(\"type\").agg({\"student_name\": \"count\",\"math_score\": \"mean\", \"reading_score\": \"mean\", \"pass_math\": \"sum\", \"pass_read\":\"sum\", \"pass_both\": \"sum\"})\n",
    "df_group_type[\"perc_math\"]=(df_group_type.pass_math/df_group_type.student_name)\n",
    "df_group_type[\"perc_read\"] = df_group_type.pass_read/df_group_type.student_name\n",
    "df_group_type[\"perc_both\"] = df_group_type.pass_both/df_group_type.student_name\n",
    "cols=['reading_score','math_score', 'perc_read','perc_math', 'perc_both']\n",
    "df_group_type=df_group_type.loc[:,cols]\n",
    "df_group_type.rename(columns = {'reading_score': 'Average Reading Score','math_score': 'Average Math Score',\n",
    "                                 'perc_read':'% Passing Reading', 'perc_math':'% Passing Math',\n",
    "                                'perc_both': '% Passing Both'}, inplace = True)\n",
    "  \n",
    "\n",
    "df_group_type\n"
   ]
  },
  {
   "cell_type": "code",
   "execution_count": null,
   "id": "7be2d818",
   "metadata": {},
   "outputs": [],
   "source": []
  },
  {
   "cell_type": "code",
   "execution_count": null,
   "id": "6f378dcd",
   "metadata": {},
   "outputs": [],
   "source": []
  },
  {
   "cell_type": "code",
   "execution_count": null,
   "id": "23f7afa2",
   "metadata": {},
   "outputs": [],
   "source": []
  },
  {
   "cell_type": "code",
   "execution_count": null,
   "id": "9dd658dc",
   "metadata": {},
   "outputs": [],
   "source": []
  },
  {
   "cell_type": "code",
   "execution_count": null,
   "id": "be3adbf7",
   "metadata": {},
   "outputs": [],
   "source": []
  },
  {
   "cell_type": "code",
   "execution_count": null,
   "id": "834c5243",
   "metadata": {},
   "outputs": [],
   "source": []
  },
  {
   "cell_type": "code",
   "execution_count": null,
   "id": "c5d9fde3",
   "metadata": {},
   "outputs": [],
   "source": []
  },
  {
   "cell_type": "code",
   "execution_count": null,
   "id": "cd3c0608",
   "metadata": {},
   "outputs": [],
   "source": []
  }
 ],
 "metadata": {
  "kernelspec": {
   "display_name": "Python 3 (ipykernel)",
   "language": "python",
   "name": "python3"
  },
  "language_info": {
   "codemirror_mode": {
    "name": "ipython",
    "version": 3
   },
   "file_extension": ".py",
   "mimetype": "text/x-python",
   "name": "python",
   "nbconvert_exporter": "python",
   "pygments_lexer": "ipython3",
   "version": "3.9.12"
  }
 },
 "nbformat": 4,
 "nbformat_minor": 5
}
